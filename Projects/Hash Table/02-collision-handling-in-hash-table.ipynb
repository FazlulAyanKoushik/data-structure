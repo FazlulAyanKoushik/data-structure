{
 "cells": [
  {
   "cell_type": "code",
   "id": "initial_id",
   "metadata": {
    "collapsed": true,
    "ExecuteTime": {
     "end_time": "2024-06-01T17:03:04.205707Z",
     "start_time": "2024-06-01T17:03:04.189538Z"
    }
   },
   "source": [
    "class HashTable:\n",
    "    def __init__(self):\n",
    "        self.MAX = 10\n",
    "        self.arr = [[] for i in range(self.MAX)]\n",
    "        \n",
    "    def get_hash(self, key):\n",
    "        hash = 0\n",
    "        \n",
    "        for char in key:\n",
    "            hash += ord(char)\n",
    "        return hash % self.MAX\n",
    "    \n",
    "    def __getitem__(self, key):\n",
    "        index = self.get_hash(key)\n",
    "        \n",
    "        if len(self.arr[index]) > 1:\n",
    "            for idx, element in enumerate(self.arr[index]):\n",
    "                if element[0] == key:\n",
    "                    return self.arr[index][idx][1]\n",
    "        \n",
    "        return self.arr[index][0][1]\n",
    "    \n",
    "    def __setitem__(self, key, value):\n",
    "        index = self.get_hash(key)\n",
    "        found = False\n",
    "        \n",
    "        for idx, element in enumerate(self.arr[index]):\n",
    "            if len(element) == 2 and element[0] == key:\n",
    "                self.arr[index][idx] = (key, value)\n",
    "                found = True\n",
    "                break\n",
    "        if not found:\n",
    "            self.arr[index].append((key, value))\n",
    "            \n",
    "    \n",
    "    def __delitem__(self, key):\n",
    "        index = self.get_hash(key)\n",
    "        \n",
    "        if len(self.arr[index]) > 1:\n",
    "            for idx, element in enumerate(self.arr[index]):\n",
    "                if element[0] == key:\n",
    "                    self.arr[index].pop(idx)\n",
    "                    break\n",
    "        else:\n",
    "            self.arr[index] = []"
   ],
   "outputs": [],
   "execution_count": 13
  },
  {
   "cell_type": "code",
   "source": [
    "t = HashTable()"
   ],
   "metadata": {
    "collapsed": false,
    "ExecuteTime": {
     "end_time": "2024-06-01T17:03:04.209478Z",
     "start_time": "2024-06-01T17:03:04.205707Z"
    }
   },
   "id": "b28d2d8c8d94aec0",
   "outputs": [],
   "execution_count": 14
  },
  {
   "cell_type": "code",
   "source": [
    "t[\"march 6\"] = 310\n",
    "t[\"march 6\"] = 200\n",
    "t[\"march 7\"] = 420\n",
    "t[\"march 8\"] = 67\n",
    "t[\"march 17\"] = 67"
   ],
   "metadata": {
    "collapsed": false,
    "ExecuteTime": {
     "end_time": "2024-06-01T17:03:04.213360Z",
     "start_time": "2024-06-01T17:03:04.209478Z"
    }
   },
   "id": "8a31f81b9980e9fb",
   "outputs": [],
   "execution_count": 15
  },
  {
   "cell_type": "code",
   "source": [
    "t.arr"
   ],
   "metadata": {
    "collapsed": false,
    "ExecuteTime": {
     "end_time": "2024-06-01T17:03:04.218210Z",
     "start_time": "2024-06-01T17:03:04.213360Z"
    }
   },
   "id": "16f6c18b2cfe4e0c",
   "outputs": [
    {
     "data": {
      "text/plain": [
       "[[('march 7', 420)],\n",
       " [('march 8', 67)],\n",
       " [],\n",
       " [],\n",
       " [],\n",
       " [],\n",
       " [],\n",
       " [],\n",
       " [],\n",
       " [('march 6', 200), ('march 17', 67)]]"
      ]
     },
     "execution_count": 16,
     "metadata": {},
     "output_type": "execute_result"
    }
   ],
   "execution_count": 16
  },
  {
   "cell_type": "code",
   "source": [
    "t.arr[9][0]"
   ],
   "metadata": {
    "collapsed": false,
    "ExecuteTime": {
     "end_time": "2024-06-01T17:03:04.223134Z",
     "start_time": "2024-06-01T17:03:04.218509Z"
    }
   },
   "id": "c0b84bb27acc8b51",
   "outputs": [
    {
     "data": {
      "text/plain": [
       "('march 6', 200)"
      ]
     },
     "execution_count": 17,
     "metadata": {},
     "output_type": "execute_result"
    }
   ],
   "execution_count": 17
  },
  {
   "cell_type": "code",
   "source": [
    "t.arr[9][1]"
   ],
   "metadata": {
    "collapsed": false,
    "ExecuteTime": {
     "end_time": "2024-06-01T17:03:04.227089Z",
     "start_time": "2024-06-01T17:03:04.223134Z"
    }
   },
   "id": "6e53bfc15157d4cf",
   "outputs": [
    {
     "data": {
      "text/plain": [
       "('march 17', 67)"
      ]
     },
     "execution_count": 18,
     "metadata": {},
     "output_type": "execute_result"
    }
   ],
   "execution_count": 18
  },
  {
   "cell_type": "code",
   "source": [
    "t[\"march 17\"]"
   ],
   "metadata": {
    "collapsed": false,
    "ExecuteTime": {
     "end_time": "2024-06-01T17:03:04.231685Z",
     "start_time": "2024-06-01T17:03:04.227089Z"
    }
   },
   "id": "6e5c799fcae4b1a2",
   "outputs": [
    {
     "data": {
      "text/plain": [
       "67"
      ]
     },
     "execution_count": 19,
     "metadata": {},
     "output_type": "execute_result"
    }
   ],
   "execution_count": 19
  },
  {
   "cell_type": "code",
   "source": [
    "t[\"march 6\"]"
   ],
   "metadata": {
    "collapsed": false,
    "ExecuteTime": {
     "end_time": "2024-06-01T17:03:04.264044Z",
     "start_time": "2024-06-01T17:03:04.249824Z"
    }
   },
   "id": "bbeceb02a2010991",
   "outputs": [
    {
     "data": {
      "text/plain": [
       "200"
      ]
     },
     "execution_count": 20,
     "metadata": {},
     "output_type": "execute_result"
    }
   ],
   "execution_count": 20
  },
  {
   "cell_type": "code",
   "source": [
    "t[\"march 8\"]"
   ],
   "metadata": {
    "collapsed": false,
    "ExecuteTime": {
     "end_time": "2024-06-01T17:03:04.275490Z",
     "start_time": "2024-06-01T17:03:04.269072Z"
    }
   },
   "id": "d8dcc692d861aa85",
   "outputs": [
    {
     "data": {
      "text/plain": [
       "67"
      ]
     },
     "execution_count": 21,
     "metadata": {},
     "output_type": "execute_result"
    }
   ],
   "execution_count": 21
  },
  {
   "cell_type": "code",
   "source": [
    "del t[\"march 6\"]"
   ],
   "metadata": {
    "collapsed": false,
    "ExecuteTime": {
     "end_time": "2024-06-01T17:03:04.278772Z",
     "start_time": "2024-06-01T17:03:04.275490Z"
    }
   },
   "id": "9dae26bdc72ccf6d",
   "outputs": [],
   "execution_count": 22
  },
  {
   "cell_type": "code",
   "source": [
    "t.arr"
   ],
   "metadata": {
    "collapsed": false,
    "ExecuteTime": {
     "end_time": "2024-06-01T17:03:04.286174Z",
     "start_time": "2024-06-01T17:03:04.281279Z"
    }
   },
   "id": "c12cf0c48492228",
   "outputs": [
    {
     "data": {
      "text/plain": [
       "[[('march 7', 420)],\n",
       " [('march 8', 67)],\n",
       " [],\n",
       " [],\n",
       " [],\n",
       " [],\n",
       " [],\n",
       " [],\n",
       " [],\n",
       " [('march 17', 67)]]"
      ]
     },
     "execution_count": 23,
     "metadata": {},
     "output_type": "execute_result"
    }
   ],
   "execution_count": 23
  },
  {
   "cell_type": "code",
   "source": [
    "from collections import deque"
   ],
   "metadata": {
    "collapsed": false,
    "is_executing": true,
    "ExecuteTime": {
     "end_time": "2024-06-01T17:03:04.315364Z",
     "start_time": "2024-06-01T17:03:04.312814Z"
    }
   },
   "id": "4a6a82f87ee3254",
   "outputs": [],
   "execution_count": 24
  },
  {
   "cell_type": "code",
   "source": [],
   "metadata": {
    "collapsed": false,
    "ExecuteTime": {
     "end_time": "2024-06-01T17:03:04.327886Z",
     "start_time": "2024-06-01T17:03:04.315364Z"
    }
   },
   "id": "f73d2f038c774e06",
   "outputs": [],
   "execution_count": 24
  }
 ],
 "metadata": {
  "kernelspec": {
   "display_name": "Python 3",
   "language": "python",
   "name": "python3"
  },
  "language_info": {
   "codemirror_mode": {
    "name": "ipython",
    "version": 2
   },
   "file_extension": ".py",
   "mimetype": "text/x-python",
   "name": "python",
   "nbconvert_exporter": "python",
   "pygments_lexer": "ipython2",
   "version": "2.7.6"
  }
 },
 "nbformat": 4,
 "nbformat_minor": 5
}
