{
 "cells": [
  {
   "cell_type": "code",
   "execution_count": 1,
   "id": "initial_id",
   "metadata": {
    "collapsed": true,
    "ExecuteTime": {
     "end_time": "2024-03-05T14:49:04.598385Z",
     "start_time": "2024-03-05T14:49:04.590018Z"
    }
   },
   "outputs": [],
   "source": [
    "class HashTable:\n",
    "    def __init__(self):\n",
    "        self.MAX = 10\n",
    "        self.arr = [[] for i in range(self.MAX)]\n",
    "        \n",
    "    def get_hash(self, key):\n",
    "        hash = 0\n",
    "        \n",
    "        for char in key:\n",
    "            hash += ord(char)\n",
    "        return hash % self.MAX\n",
    "    \n",
    "    def __getitem__(self, key):\n",
    "        index = self.get_hash(key)\n",
    "        \n",
    "        if len(self.arr[index]) > 1:\n",
    "            for idx, element in enumerate(self.arr[index]):\n",
    "                if element[0] == key:\n",
    "                    return self.arr[index][idx][1]\n",
    "        \n",
    "        return self.arr[index][0][1]\n",
    "    \n",
    "    def __setitem__(self, key, value):\n",
    "        index = self.get_hash(key)\n",
    "        found = False\n",
    "        \n",
    "        for idx, element in enumerate(self.arr[index]):\n",
    "            if len(element) == 2 and element[0] == key:\n",
    "                self.arr[index][idx] = (key, value)\n",
    "                found = True\n",
    "                break\n",
    "        if not found:\n",
    "            self.arr[index].append((key, value))\n",
    "            \n",
    "    \n",
    "    def __delitem__(self, key):\n",
    "        index = self.get_hash(key)\n",
    "        \n",
    "        if len(self.arr[index]) > 1:\n",
    "            for idx, element in enumerate(self.arr[index]):\n",
    "                if element[0] == key:\n",
    "                    self.arr[index].pop(idx)\n",
    "                    break\n",
    "        else:\n",
    "            self.arr[index] = []"
   ]
  },
  {
   "cell_type": "code",
   "outputs": [],
   "source": [
    "t = HashTable()"
   ],
   "metadata": {
    "collapsed": false,
    "ExecuteTime": {
     "end_time": "2024-03-05T14:49:04.603867Z",
     "start_time": "2024-03-05T14:49:04.599394Z"
    }
   },
   "id": "b28d2d8c8d94aec0",
   "execution_count": 2
  },
  {
   "cell_type": "code",
   "outputs": [],
   "source": [
    "t[\"march 6\"] = 310\n",
    "t[\"march 6\"] = 200\n",
    "t[\"march 7\"] = 420\n",
    "t[\"march 8\"] = 67\n",
    "t[\"march 17\"] = 67"
   ],
   "metadata": {
    "collapsed": false,
    "ExecuteTime": {
     "end_time": "2024-03-05T14:49:04.607846Z",
     "start_time": "2024-03-05T14:49:04.604873Z"
    }
   },
   "id": "8a31f81b9980e9fb",
   "execution_count": 3
  },
  {
   "cell_type": "code",
   "outputs": [
    {
     "data": {
      "text/plain": "[[('march 7', 420)],\n [('march 8', 67)],\n [],\n [],\n [],\n [],\n [],\n [],\n [],\n [('march 6', 200), ('march 17', 67)]]"
     },
     "execution_count": 4,
     "metadata": {},
     "output_type": "execute_result"
    }
   ],
   "source": [
    "t.arr"
   ],
   "metadata": {
    "collapsed": false,
    "ExecuteTime": {
     "end_time": "2024-03-05T14:49:04.613635Z",
     "start_time": "2024-03-05T14:49:04.608850Z"
    }
   },
   "id": "16f6c18b2cfe4e0c",
   "execution_count": 4
  },
  {
   "cell_type": "code",
   "outputs": [
    {
     "data": {
      "text/plain": "('march 6', 200)"
     },
     "execution_count": 5,
     "metadata": {},
     "output_type": "execute_result"
    }
   ],
   "source": [
    "t.arr[9][0]"
   ],
   "metadata": {
    "collapsed": false,
    "ExecuteTime": {
     "end_time": "2024-03-05T14:49:04.617917Z",
     "start_time": "2024-03-05T14:49:04.614644Z"
    }
   },
   "id": "c0b84bb27acc8b51",
   "execution_count": 5
  },
  {
   "cell_type": "code",
   "outputs": [
    {
     "data": {
      "text/plain": "('march 17', 67)"
     },
     "execution_count": 6,
     "metadata": {},
     "output_type": "execute_result"
    }
   ],
   "source": [
    "t.arr[9][1]"
   ],
   "metadata": {
    "collapsed": false,
    "ExecuteTime": {
     "end_time": "2024-03-05T14:49:04.622975Z",
     "start_time": "2024-03-05T14:49:04.618925Z"
    }
   },
   "id": "6e53bfc15157d4cf",
   "execution_count": 6
  },
  {
   "cell_type": "code",
   "outputs": [
    {
     "data": {
      "text/plain": "67"
     },
     "execution_count": 7,
     "metadata": {},
     "output_type": "execute_result"
    }
   ],
   "source": [
    "t[\"march 17\"]"
   ],
   "metadata": {
    "collapsed": false,
    "ExecuteTime": {
     "end_time": "2024-03-05T14:49:04.627228Z",
     "start_time": "2024-03-05T14:49:04.623983Z"
    }
   },
   "id": "6e5c799fcae4b1a2",
   "execution_count": 7
  },
  {
   "cell_type": "code",
   "outputs": [
    {
     "data": {
      "text/plain": "200"
     },
     "execution_count": 8,
     "metadata": {},
     "output_type": "execute_result"
    }
   ],
   "source": [
    "t[\"march 6\"]"
   ],
   "metadata": {
    "collapsed": false,
    "ExecuteTime": {
     "end_time": "2024-03-05T14:49:04.631812Z",
     "start_time": "2024-03-05T14:49:04.628234Z"
    }
   },
   "id": "bbeceb02a2010991",
   "execution_count": 8
  },
  {
   "cell_type": "code",
   "outputs": [
    {
     "data": {
      "text/plain": "67"
     },
     "execution_count": 9,
     "metadata": {},
     "output_type": "execute_result"
    }
   ],
   "source": [
    "t[\"march 8\"]"
   ],
   "metadata": {
    "collapsed": false,
    "ExecuteTime": {
     "end_time": "2024-03-05T14:49:04.636550Z",
     "start_time": "2024-03-05T14:49:04.632819Z"
    }
   },
   "id": "d8dcc692d861aa85",
   "execution_count": 9
  },
  {
   "cell_type": "code",
   "outputs": [],
   "source": [
    "del t[\"march 6\"]"
   ],
   "metadata": {
    "collapsed": false,
    "ExecuteTime": {
     "end_time": "2024-03-05T14:49:19.981702Z",
     "start_time": "2024-03-05T14:49:19.979336Z"
    }
   },
   "id": "9dae26bdc72ccf6d",
   "execution_count": 10
  },
  {
   "cell_type": "code",
   "outputs": [
    {
     "data": {
      "text/plain": "[[('march 7', 420)],\n [('march 8', 67)],\n [],\n [],\n [],\n [],\n [],\n [],\n [],\n [('march 17', 67)]]"
     },
     "execution_count": 11,
     "metadata": {},
     "output_type": "execute_result"
    }
   ],
   "source": [
    "t.arr"
   ],
   "metadata": {
    "collapsed": false,
    "ExecuteTime": {
     "end_time": "2024-03-05T14:49:22.417539Z",
     "start_time": "2024-03-05T14:49:22.413656Z"
    }
   },
   "id": "c12cf0c48492228",
   "execution_count": 11
  },
  {
   "cell_type": "code",
   "outputs": [],
   "source": [
    "from collections import deque"
   ],
   "metadata": {
    "collapsed": false,
    "is_executing": true
   },
   "id": "4a6a82f87ee3254"
  },
  {
   "cell_type": "code",
   "outputs": [],
   "source": [],
   "metadata": {
    "collapsed": false
   },
   "id": "f73d2f038c774e06"
  }
 ],
 "metadata": {
  "kernelspec": {
   "display_name": "Python 3",
   "language": "python",
   "name": "python3"
  },
  "language_info": {
   "codemirror_mode": {
    "name": "ipython",
    "version": 2
   },
   "file_extension": ".py",
   "mimetype": "text/x-python",
   "name": "python",
   "nbconvert_exporter": "python",
   "pygments_lexer": "ipython2",
   "version": "2.7.6"
  }
 },
 "nbformat": 4,
 "nbformat_minor": 5
}
