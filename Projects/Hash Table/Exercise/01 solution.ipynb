{
 "cells": [
  {
   "cell_type": "markdown",
   "source": [
    "## Exercise: Hash Table: New York City Weather Analysis\n",
    "### Problem 1. nyc_weather.csv contains new york city weather for first few days in the month of January. Write a program that can answer following,\n",
    "\n",
    "     (a) What was the average temperature in first week of Jan\n",
    "\n",
    "     (b) What was the maximum temperature in first 10 days of Jan\n",
    "\n",
    "  Figure out data structure that is best for this problem"
   ],
   "metadata": {
    "collapsed": false
   },
   "id": "c837945c04072356"
  },
  {
   "cell_type": "code",
   "execution_count": 56,
   "id": "initial_id",
   "metadata": {
    "collapsed": true,
    "ExecuteTime": {
     "end_time": "2024-03-05T16:38:08.267864Z",
     "start_time": "2024-03-05T16:38:08.264091Z"
    }
   },
   "outputs": [],
   "source": [
    "temperature_arr = []\n",
    "\n",
    "with open(\"nyc_weather.csv\", \"r\") as file:\n",
    "    for row in file:\n",
    "        # ignore the first row\n",
    "        if row.split(\",\")[0] == \"date\":\n",
    "            continue\n",
    "        temperature_arr.append(int(row.split(\",\")[1]))"
   ]
  },
  {
   "cell_type": "code",
   "outputs": [
    {
     "data": {
      "text/plain": "[27, 31, 23, 34, 37, 38, 29, 30, 35, 30]"
     },
     "execution_count": 57,
     "metadata": {},
     "output_type": "execute_result"
    }
   ],
   "source": [
    "temperature_arr"
   ],
   "metadata": {
    "collapsed": false,
    "ExecuteTime": {
     "end_time": "2024-03-05T16:38:08.290029Z",
     "start_time": "2024-03-05T16:38:08.286475Z"
    }
   },
   "id": "6d098c85a6a20cf",
   "execution_count": 57
  },
  {
   "cell_type": "markdown",
   "source": [
    "## (a) What was the average temperature in first week of Jan"
   ],
   "metadata": {
    "collapsed": false
   },
   "id": "b27a68329ed415c8"
  },
  {
   "cell_type": "code",
   "outputs": [],
   "source": [
    "avg_temperature =sum(temperature_arr[:7])/7"
   ],
   "metadata": {
    "collapsed": false,
    "ExecuteTime": {
     "end_time": "2024-03-05T16:38:08.317146Z",
     "start_time": "2024-03-05T16:38:08.313654Z"
    }
   },
   "id": "44c3eaf17332a753",
   "execution_count": 58
  },
  {
   "cell_type": "code",
   "outputs": [
    {
     "data": {
      "text/plain": "31.285714285714285"
     },
     "execution_count": 59,
     "metadata": {},
     "output_type": "execute_result"
    }
   ],
   "source": [
    "avg_temperature"
   ],
   "metadata": {
    "collapsed": false,
    "ExecuteTime": {
     "end_time": "2024-03-05T16:38:08.322077Z",
     "start_time": "2024-03-05T16:38:08.318212Z"
    }
   },
   "id": "57653f81d08f685e",
   "execution_count": 59
  },
  {
   "cell_type": "markdown",
   "source": [
    "## (b) What was the maximum temperature in first 10 days of Jan"
   ],
   "metadata": {
    "collapsed": false
   },
   "id": "ee36638db4e0441a"
  },
  {
   "cell_type": "code",
   "outputs": [],
   "source": [
    "max_temperature = max(temperature_arr[:10])"
   ],
   "metadata": {
    "collapsed": false,
    "ExecuteTime": {
     "end_time": "2024-03-05T16:38:08.326879Z",
     "start_time": "2024-03-05T16:38:08.323139Z"
    }
   },
   "id": "da9b55d1512d63e6",
   "execution_count": 60
  },
  {
   "cell_type": "code",
   "outputs": [
    {
     "data": {
      "text/plain": "38"
     },
     "execution_count": 61,
     "metadata": {},
     "output_type": "execute_result"
    }
   ],
   "source": [
    "max_temperature"
   ],
   "metadata": {
    "collapsed": false,
    "ExecuteTime": {
     "end_time": "2024-03-05T16:38:08.334854Z",
     "start_time": "2024-03-05T16:38:08.330106Z"
    }
   },
   "id": "ac7a71b7c1f2145",
   "execution_count": 61
  },
  {
   "cell_type": "markdown",
   "source": [
    "### Problem 2. nyc_weather.csv contains new york city weather for first few days in the month of January. Write a program that can answer following,\n",
    "        (a) What was the temperature on Jan 9?\n",
    "        (b) What was the temperature on Jan 4?\n",
    "Figure out data structure that is best for this problem"
   ],
   "metadata": {
    "collapsed": false
   },
   "id": "84c2eb6f1a0331f"
  },
  {
   "cell_type": "code",
   "outputs": [],
   "source": [
    "class HashTable:\n",
    "    def __init__(self):\n",
    "        self.MAX = 10\n",
    "        self.arr = [[] for i in range(self.MAX)]\n",
    "\n",
    "    def get_hash(self, key):\n",
    "        h = 0\n",
    "        for char in key:\n",
    "            h += ord(char)\n",
    "        return h % self.MAX\n",
    "\n",
    "    def __setitem__(self, key, value):\n",
    "        index = self.get_hash(key)\n",
    "        found = False\n",
    "        \n",
    "        for idx, element in enumerate(self.arr[index]):\n",
    "            if len(element)==2 and element[0] == key:\n",
    "                self.arr[index][idx] = (key, value)\n",
    "                found = True\n",
    "                break\n",
    "        \n",
    "        if not found:\n",
    "            self.arr[index].append((key, value))\n",
    "\n",
    "    def __getitem__(self, key):\n",
    "        index = self.get_hash(key)\n",
    "        \n",
    "        if len(self.arr[index]) > 1:\n",
    "            for element in self.arr[index]:\n",
    "                if element[0] == key:\n",
    "                    return element[1]\n",
    "        else:\n",
    "            return self.arr[index][0][1]\n",
    "\n",
    "    def __delitem__(self, key):\n",
    "        index = self.get_hash(key)\n",
    "        \n",
    "        if len(self.arr[index]) > 1:\n",
    "            for idx, element in enumerate(self.arr[index]):\n",
    "                if element[0] == key:\n",
    "                    del self.arr[index][idx]\n",
    "        else:\n",
    "            del self.arr[index][0]"
   ],
   "metadata": {
    "collapsed": false,
    "ExecuteTime": {
     "end_time": "2024-03-05T16:38:08.344440Z",
     "start_time": "2024-03-05T16:38:08.335920Z"
    }
   },
   "id": "5a4cd76122b01c97",
   "execution_count": 62
  },
  {
   "cell_type": "code",
   "outputs": [
    {
     "name": "stdout",
     "output_type": "stream",
     "text": [
      "35\n",
      "34\n"
     ]
    }
   ],
   "source": [
    "with open(\"nyc_weather.csv\", \"r\") as file:\n",
    "    ht = HashTable()\n",
    "    for row in file:\n",
    "        if row.split(\",\")[0] == \"date\":\n",
    "            continue\n",
    "        key = row.split(\",\")[0]\n",
    "        value = row.split(\",\")[1]\n",
    "        ht[key] = int(value)\n",
    "        \n",
    "    print(ht[\"Jan 9\"])\n",
    "    print(ht[\"Jan 4\"])"
   ],
   "metadata": {
    "collapsed": false,
    "ExecuteTime": {
     "end_time": "2024-03-05T16:38:08.351003Z",
     "start_time": "2024-03-05T16:38:08.345464Z"
    }
   },
   "id": "2c11c724c853ab56",
   "execution_count": 63
  },
  {
   "cell_type": "code",
   "outputs": [
    {
     "data": {
      "text/plain": "[[('Jan 9', 35), ('Jan 10', 30)],\n [],\n [('Jan 1', 27)],\n [('Jan 2', 31)],\n [('Jan 3', 23)],\n [('Jan 4', 34)],\n [('Jan 5', 37)],\n [('Jan 6', 38)],\n [('Jan 7', 29)],\n [('Jan 8', 30)]]"
     },
     "execution_count": 64,
     "metadata": {},
     "output_type": "execute_result"
    }
   ],
   "source": [
    "ht.arr"
   ],
   "metadata": {
    "collapsed": false,
    "ExecuteTime": {
     "end_time": "2024-03-05T16:38:08.382233Z",
     "start_time": "2024-03-05T16:38:08.377552Z"
    }
   },
   "id": "8a42e40e93960e15",
   "execution_count": 64
  },
  {
   "cell_type": "markdown",
   "source": [],
   "metadata": {
    "collapsed": false
   },
   "id": "b73a13aa42b68e55"
  },
  {
   "cell_type": "markdown",
   "source": [
    "### Try to optimize the solution for the second problem"
   ],
   "metadata": {
    "collapsed": false
   },
   "id": "9a3e9816cc9f0d8c"
  },
  {
   "cell_type": "code",
   "outputs": [
    {
     "name": "stdout",
     "output_type": "stream",
     "text": [
      "35\n",
      "34\n"
     ]
    }
   ],
   "source": [
    "weather_dict = {}\n",
    "\n",
    "with open(\"nyc_weather.csv\", \"r\") as file:\n",
    "    for row in file:\n",
    "        if row.split(\",\")[0] == \"date\":\n",
    "            continue\n",
    "        key = row.split(\",\")[0]\n",
    "        value = row.split(\",\")[1]\n",
    "        weather_dict[key] = int(value)\n",
    "        \n",
    "    print(weather_dict[\"Jan 9\"])\n",
    "    print(weather_dict[\"Jan 4\"])"
   ],
   "metadata": {
    "collapsed": false,
    "ExecuteTime": {
     "end_time": "2024-03-05T16:38:08.389121Z",
     "start_time": "2024-03-05T16:38:08.383344Z"
    }
   },
   "id": "2e9512a57d2c7022",
   "execution_count": 65
  },
  {
   "cell_type": "code",
   "outputs": [
    {
     "data": {
      "text/plain": "{'Jan 1': 27,\n 'Jan 2': 31,\n 'Jan 3': 23,\n 'Jan 4': 34,\n 'Jan 5': 37,\n 'Jan 6': 38,\n 'Jan 7': 29,\n 'Jan 8': 30,\n 'Jan 9': 35,\n 'Jan 10': 30}"
     },
     "execution_count": 66,
     "metadata": {},
     "output_type": "execute_result"
    }
   ],
   "source": [
    "weather_dict"
   ],
   "metadata": {
    "collapsed": false,
    "ExecuteTime": {
     "end_time": "2024-03-05T16:38:08.401187Z",
     "start_time": "2024-03-05T16:38:08.397218Z"
    }
   },
   "id": "b65e4858fadbd48e",
   "execution_count": 66
  }
 ],
 "metadata": {
  "kernelspec": {
   "display_name": "Python 3",
   "language": "python",
   "name": "python3"
  },
  "language_info": {
   "codemirror_mode": {
    "name": "ipython",
    "version": 2
   },
   "file_extension": ".py",
   "mimetype": "text/x-python",
   "name": "python",
   "nbconvert_exporter": "python",
   "pygments_lexer": "ipython2",
   "version": "2.7.6"
  }
 },
 "nbformat": 4,
 "nbformat_minor": 5
}
