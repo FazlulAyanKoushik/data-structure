{
 "cells": [
  {
   "cell_type": "markdown",
   "source": [
    "## poem.txt Contains famous poem \"Road not taken\" by poet Robert Frost. You have to read this file in python and print every word and its count as show below. Think about the best data structure that you can use to solve this problem and figure out why you selected that specific data structure."
   ],
   "metadata": {
    "collapsed": false
   },
   "id": "381ac989ea60df6b"
  },
  {
   "cell_type": "code",
   "execution_count": 1,
   "id": "initial_id",
   "metadata": {
    "collapsed": true,
    "ExecuteTime": {
     "end_time": "2024-03-09T17:44:25.342908Z",
     "start_time": "2024-03-09T17:44:25.312343Z"
    }
   },
   "outputs": [
    {
     "name": "stdout",
     "output_type": "stream",
     "text": [
      "Two roads diverged in a yellow wood,\n",
      "And sorry I could not travel both\n",
      "And be one traveler, long I stood\n",
      "And looked down one as far as I could\n",
      "To where it bent in the undergrowth;\n",
      "\n",
      "Then took the other, as just as fair,\n",
      "And having perhaps the better claim,\n",
      "Because it was grassy and wanted wear;\n",
      "Though as for that the passing there\n",
      "Had worn them really about the same,\n",
      "\n",
      "And both that morning equally lay\n",
      "In leaves no step had trodden black.\n",
      "Oh, I kept the first for another day!\n",
      "Yet knowing how way leads on to way,\n",
      "I doubted if I should ever come back.\n",
      "\n",
      "I shall be telling this with a sigh\n",
      "Somewhere ages and ages hence:\n",
      "Two roads diverged in a wood, and Iâ€”\n",
      "I took the one less traveled by,\n",
      "And that has made all the difference."
     ]
    }
   ],
   "source": [
    "with open(\"poem.txt\", \"r\") as file:\n",
    "    lines = file.readlines()\n",
    "    for line in lines:\n",
    "        print(line, end=\"\")"
   ]
  },
  {
   "cell_type": "code",
   "outputs": [],
   "source": [
    "words_count = {}\n",
    "\n",
    "with open(\"poem.txt\", \"r\") as file:\n",
    "    lines = file.readlines()\n",
    "    for line in lines:\n",
    "        words = line.split(\" \")\n",
    "        for word in words:\n",
    "            word = word.replace(\"\\n\", \"\")\n",
    "            if word in words_count:\n",
    "                words_count[word] += 1\n",
    "            else:\n",
    "                words_count[word] = 1"
   ],
   "metadata": {
    "collapsed": false,
    "ExecuteTime": {
     "end_time": "2024-03-09T17:48:03.880701Z",
     "start_time": "2024-03-09T17:48:03.876454Z"
    }
   },
   "id": "ec3ac654b5b4c73c",
   "execution_count": 5
  },
  {
   "cell_type": "code",
   "outputs": [
    {
     "data": {
      "text/plain": "{'Two': 2,\n 'roads': 2,\n 'diverged': 2,\n 'in': 3,\n 'a': 3,\n 'yellow': 1,\n 'wood,': 2,\n 'And': 6,\n 'sorry': 1,\n 'I': 8,\n 'could': 2,\n 'not': 1,\n 'travel': 1,\n 'both': 2,\n 'be': 2,\n 'one': 3,\n 'traveler,': 1,\n 'long': 1,\n 'stood': 1,\n 'looked': 1,\n 'down': 1,\n 'as': 5,\n 'far': 1,\n 'To': 1,\n 'where': 1,\n 'it': 2,\n 'bent': 1,\n 'the': 8,\n 'undergrowth;': 1,\n '': 3,\n 'Then': 1,\n 'took': 2,\n 'other,': 1,\n 'just': 1,\n 'fair,': 1,\n 'having': 1,\n 'perhaps': 1,\n 'better': 1,\n 'claim,': 1,\n 'Because': 1,\n 'was': 1,\n 'grassy': 1,\n 'and': 3,\n 'wanted': 1,\n 'wear;': 1,\n 'Though': 1,\n 'for': 2,\n 'that': 3,\n 'passing': 1,\n 'there': 1,\n 'Had': 1,\n 'worn': 1,\n 'them': 1,\n 'really': 1,\n 'about': 1,\n 'same,': 1,\n 'morning': 1,\n 'equally': 1,\n 'lay': 1,\n 'In': 1,\n 'leaves': 1,\n 'no': 1,\n 'step': 1,\n 'had': 1,\n 'trodden': 1,\n 'black.': 1,\n 'Oh,': 1,\n 'kept': 1,\n 'first': 1,\n 'another': 1,\n 'day!': 1,\n 'Yet': 1,\n 'knowing': 1,\n 'how': 1,\n 'way': 1,\n 'leads': 1,\n 'on': 1,\n 'to': 1,\n 'way,': 1,\n 'doubted': 1,\n 'if': 1,\n 'should': 1,\n 'ever': 1,\n 'come': 1,\n 'back.': 1,\n 'shall': 1,\n 'telling': 1,\n 'this': 1,\n 'with': 1,\n 'sigh': 1,\n 'Somewhere': 1,\n 'ages': 2,\n 'hence:': 1,\n 'Iâ€”': 1,\n 'less': 1,\n 'traveled': 1,\n 'by,': 1,\n 'has': 1,\n 'made': 1,\n 'all': 1,\n 'difference.': 1}"
     },
     "execution_count": 6,
     "metadata": {},
     "output_type": "execute_result"
    }
   ],
   "source": [
    "words_count"
   ],
   "metadata": {
    "collapsed": false,
    "ExecuteTime": {
     "end_time": "2024-03-09T17:48:04.497376Z",
     "start_time": "2024-03-09T17:48:04.492057Z"
    }
   },
   "id": "8297813079eebc2d",
   "execution_count": 6
  },
  {
   "cell_type": "code",
   "outputs": [],
   "source": [],
   "metadata": {
    "collapsed": false
   },
   "id": "5ff95d238618c898"
  }
 ],
 "metadata": {
  "kernelspec": {
   "display_name": "Python 3",
   "language": "python",
   "name": "python3"
  },
  "language_info": {
   "codemirror_mode": {
    "name": "ipython",
    "version": 2
   },
   "file_extension": ".py",
   "mimetype": "text/x-python",
   "name": "python",
   "nbconvert_exporter": "python",
   "pygments_lexer": "ipython2",
   "version": "2.7.6"
  }
 },
 "nbformat": 4,
 "nbformat_minor": 5
}
