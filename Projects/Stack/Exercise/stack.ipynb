{
 "cells": [
  {
   "cell_type": "code",
   "execution_count": 1,
   "id": "initial_id",
   "metadata": {
    "collapsed": true,
    "ExecuteTime": {
     "end_time": "2024-03-13T18:34:24.180511Z",
     "start_time": "2024-03-13T18:34:24.173617Z"
    }
   },
   "outputs": [],
   "source": [
    "from collections import deque\n",
    "\n",
    "class Stack:\n",
    "    def __init__(self):\n",
    "        self.stack = deque()\n",
    "    \n",
    "    def push(self, value):\n",
    "        self.stack.append(value)\n",
    "    \n",
    "    def pop(self):\n",
    "        return self.stack.pop()\n",
    "    \n",
    "    def peek(self):\n",
    "        return self.stack[-1]\n",
    "    \n",
    "    def is_empty(self):\n",
    "        return len(self.stack) == 0\n",
    "    \n",
    "    def size(self):\n",
    "        return len(self.stack)"
   ]
  },
  {
   "cell_type": "markdown",
   "source": [
    "### Write a function in python that can reverse a string using stack data structure."
   ],
   "metadata": {
    "collapsed": false
   },
   "id": "d08e999c03de3d4b"
  },
  {
   "cell_type": "code",
   "outputs": [],
   "source": [
    "def reverse_string(string):\n",
    "    stack = Stack()\n",
    "    for char in string:\n",
    "        stack.push(char)\n",
    "    reversed_string = ''\n",
    "    while not stack.is_empty():\n",
    "        reversed_string += stack.pop()\n",
    "    return reversed_string"
   ],
   "metadata": {
    "collapsed": false,
    "ExecuteTime": {
     "end_time": "2024-03-13T18:36:03.778763Z",
     "start_time": "2024-03-13T18:36:03.775490Z"
    }
   },
   "id": "b075f8f868f1ccaa",
   "execution_count": 2
  },
  {
   "cell_type": "code",
   "outputs": [
    {
     "name": "stdout",
     "output_type": "stream",
     "text": [
      "91-DIVOC ereuqnoc lliw eW\n"
     ]
    }
   ],
   "source": [
    "reverse_string = reverse_string('We will conquere COVID-19')\n",
    "print(reverse_string)"
   ],
   "metadata": {
    "collapsed": false,
    "ExecuteTime": {
     "end_time": "2024-03-13T18:37:04.457538Z",
     "start_time": "2024-03-13T18:37:04.454954Z"
    }
   },
   "id": "757ccef5ff03f725",
   "execution_count": 3
  },
  {
   "cell_type": "code",
   "outputs": [],
   "source": [],
   "metadata": {
    "collapsed": false
   },
   "id": "c211c524bffd1512"
  }
 ],
 "metadata": {
  "kernelspec": {
   "display_name": "Python 3",
   "language": "python",
   "name": "python3"
  },
  "language_info": {
   "codemirror_mode": {
    "name": "ipython",
    "version": 2
   },
   "file_extension": ".py",
   "mimetype": "text/x-python",
   "name": "python",
   "nbconvert_exporter": "python",
   "pygments_lexer": "ipython2",
   "version": "2.7.6"
  }
 },
 "nbformat": 4,
 "nbformat_minor": 5
}
